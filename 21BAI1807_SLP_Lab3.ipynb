{
 "cells": [
  {
   "cell_type": "markdown",
   "metadata": {},
   "source": [
    "SreeDananjay S(21BAI1807)\n",
    "SLP Lab 3"
   ]
  },
  {
   "cell_type": "code",
   "execution_count": 1,
   "metadata": {},
   "outputs": [],
   "source": [
    "import pandas as pd\n",
    "import numpy as np"
   ]
  },
  {
   "cell_type": "code",
   "execution_count": 2,
   "metadata": {},
   "outputs": [
    {
     "data": {
      "text/html": [
       "<div>\n",
       "<style scoped>\n",
       "    .dataframe tbody tr th:only-of-type {\n",
       "        vertical-align: middle;\n",
       "    }\n",
       "\n",
       "    .dataframe tbody tr th {\n",
       "        vertical-align: top;\n",
       "    }\n",
       "\n",
       "    .dataframe thead th {\n",
       "        text-align: right;\n",
       "    }\n",
       "</style>\n",
       "<table border=\"1\" class=\"dataframe\">\n",
       "  <thead>\n",
       "    <tr style=\"text-align: right;\">\n",
       "      <th></th>\n",
       "      <th>label</th>\n",
       "      <th>sms_message</th>\n",
       "    </tr>\n",
       "  </thead>\n",
       "  <tbody>\n",
       "    <tr>\n",
       "      <th>0</th>\n",
       "      <td>ham</td>\n",
       "      <td>Go until jurong point, crazy.. Available only ...</td>\n",
       "    </tr>\n",
       "    <tr>\n",
       "      <th>1</th>\n",
       "      <td>ham</td>\n",
       "      <td>Ok lar... Joking wif u oni...</td>\n",
       "    </tr>\n",
       "    <tr>\n",
       "      <th>2</th>\n",
       "      <td>spam</td>\n",
       "      <td>Free entry in 2 a wkly comp to win FA Cup fina...</td>\n",
       "    </tr>\n",
       "    <tr>\n",
       "      <th>3</th>\n",
       "      <td>ham</td>\n",
       "      <td>U dun say so early hor... U c already then say...</td>\n",
       "    </tr>\n",
       "    <tr>\n",
       "      <th>4</th>\n",
       "      <td>ham</td>\n",
       "      <td>Nah I don't think he goes to usf, he lives aro...</td>\n",
       "    </tr>\n",
       "  </tbody>\n",
       "</table>\n",
       "</div>"
      ],
      "text/plain": [
       "  label                                        sms_message\n",
       "0   ham  Go until jurong point, crazy.. Available only ...\n",
       "1   ham                      Ok lar... Joking wif u oni...\n",
       "2  spam  Free entry in 2 a wkly comp to win FA Cup fina...\n",
       "3   ham  U dun say so early hor... U c already then say...\n",
       "4   ham  Nah I don't think he goes to usf, he lives aro..."
      ]
     },
     "execution_count": 2,
     "metadata": {},
     "output_type": "execute_result"
    }
   ],
   "source": [
    "df = pd.read_csv('./SMSSpamCollection', sep='\\t', header=None)\n",
    "df.columns = ['label', 'sms_message']\n",
    "df.head()"
   ]
  },
  {
   "cell_type": "code",
   "execution_count": 4,
   "metadata": {},
   "outputs": [
    {
     "name": "stdout",
     "output_type": "stream",
     "text": [
      "Training data: (4457,), Test data: (1115,)\n"
     ]
    }
   ],
   "source": [
    "from sklearn.model_selection import train_test_split\n",
    "from sklearn.preprocessing import LabelEncoder\n",
    "\n",
    "# Encode the labels (spam=1, ham=0)\n",
    "label_encoder = LabelEncoder()\n",
    "df['label'] = label_encoder.fit_transform(df['label'])\n",
    "\n",
    "# Split the dataset into training and testing sets\n",
    "X_train, X_test, y_train, y_test = train_test_split(df['sms_message'], df['label'], test_size=0.2, random_state=42)\n",
    "\n",
    "# Display the shape of the data\n",
    "print(f\"Training data: {X_train.shape}, Test data: {X_test.shape}\")\n"
   ]
  },
  {
   "cell_type": "code",
   "execution_count": 8,
   "metadata": {},
   "outputs": [
    {
     "name": "stdout",
     "output_type": "stream",
     "text": [
      "\n",
      "Character-level TF-IDF Model Results\n",
      "              precision    recall  f1-score   support\n",
      "\n",
      "           0       0.91      1.00      0.95       966\n",
      "           1       0.98      0.38      0.54       149\n",
      "\n",
      "    accuracy                           0.92      1115\n",
      "   macro avg       0.95      0.69      0.75      1115\n",
      "weighted avg       0.92      0.92      0.90      1115\n",
      "\n",
      "Accuracy: 0.915695067264574\n"
     ]
    }
   ],
   "source": [
    "from sklearn.feature_extraction.text import TfidfVectorizer\n",
    "from sklearn.naive_bayes import MultinomialNB\n",
    "from sklearn.metrics import classification_report, accuracy_score\n",
    "\n",
    "# TF-IDF Vectorization at the character level\n",
    "tfidf_char = TfidfVectorizer(analyzer='char', ngram_range=(1, 5))\n",
    "X_train_char = tfidf_char.fit_transform(X_train)\n",
    "X_test_char = tfidf_char.transform(X_test)\n",
    "\n",
    "# Train a Naive Bayes classifier\n",
    "nb_char = MultinomialNB()\n",
    "nb_char.fit(X_train_char, y_train)\n",
    "\n",
    "# Predict and evaluate the model\n",
    "y_pred_char = nb_char.predict(X_test_char)\n",
    "print(\"\\nCharacter-level TF-IDF Model Results\")\n",
    "print(classification_report(y_test, y_pred_char))\n",
    "print(\"Accuracy:\", accuracy_score(y_test, y_pred_char))\n"
   ]
  },
  {
   "cell_type": "code",
   "execution_count": 9,
   "metadata": {},
   "outputs": [
    {
     "name": "stdout",
     "output_type": "stream",
     "text": [
      "\n",
      "N-gram TF-IDF Model Results\n",
      "              precision    recall  f1-score   support\n",
      "\n",
      "           0       0.95      1.00      0.97       966\n",
      "           1       1.00      0.63      0.77       149\n",
      "\n",
      "    accuracy                           0.95      1115\n",
      "   macro avg       0.97      0.82      0.87      1115\n",
      "weighted avg       0.95      0.95      0.95      1115\n",
      "\n",
      "Accuracy: 0.9506726457399103\n"
     ]
    }
   ],
   "source": [
    "# TF-IDF Vectorization with n-grams (bigrams and trigrams)\n",
    "tfidf_ngram = TfidfVectorizer(ngram_range=(1, 3))\n",
    "X_train_ngram = tfidf_ngram.fit_transform(X_train)\n",
    "X_test_ngram = tfidf_ngram.transform(X_test)\n",
    "\n",
    "# Train a Naive Bayes classifier\n",
    "nb_ngram = MultinomialNB()\n",
    "nb_ngram.fit(X_train_ngram, y_train)\n",
    "\n",
    "# Predict and evaluate the model\n",
    "y_pred_ngram = nb_ngram.predict(X_test_ngram)\n",
    "print(\"\\nN-gram TF-IDF Model Results\")\n",
    "print(classification_report(y_test, y_pred_ngram))\n",
    "print(\"Accuracy:\", accuracy_score(y_test, y_pred_ngram))"
   ]
  },
  {
   "cell_type": "markdown",
   "metadata": {},
   "source": [
    "### N-gram TF-IDF Model:\n",
    "\n",
    "- Captures context by considering word combinations.\n",
    "- Typically performs well, especially when specific word sequences are important for classification.\n",
    "- May show higher accuracy for tasks with clear phrase patterns.\n",
    "\n",
    "### Character-level TF-IDF Model:\n",
    "\n",
    "- Focuses on character sequences rather than word tokens.\n",
    "- Useful when the spelling of words or character sequences is important (e.g., handling misspellings, detecting spammy text).\n",
    "- Can sometimes be more robust to text variations that might be lost in word-based tokenization"
   ]
  },
  {
   "cell_type": "code",
   "execution_count": null,
   "metadata": {},
   "outputs": [],
   "source": []
  }
 ],
 "metadata": {
  "kernelspec": {
   "display_name": "Python 3",
   "language": "python",
   "name": "python3"
  },
  "language_info": {
   "codemirror_mode": {
    "name": "ipython",
    "version": 3
   },
   "file_extension": ".py",
   "mimetype": "text/x-python",
   "name": "python",
   "nbconvert_exporter": "python",
   "pygments_lexer": "ipython3",
   "version": "3.10.12"
  }
 },
 "nbformat": 4,
 "nbformat_minor": 2
}
