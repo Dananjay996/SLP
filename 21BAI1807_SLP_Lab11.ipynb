{
 "cells": [
  {
   "cell_type": "markdown",
   "metadata": {},
   "source": [
    "### *SreeDananjay S(21BAI1807)*\n",
    "#### Speech and Language processing Lab assignment 2"
   ]
  },
  {
   "cell_type": "code",
   "execution_count": 1,
   "metadata": {},
   "outputs": [
    {
     "name": "stdout",
     "output_type": "stream",
     "text": [
      "Recognized Word: 78\n"
     ]
    }
   ],
   "source": [
    "import librosa\n",
    "import numpy as np\n",
    "from dtw import dtw\n",
    "import os\n",
    "\n",
    "# Load an audio file and extract features (MFCC)\n",
    "def extract_features(file_path):\n",
    "    y, sr = librosa.load(file_path, sr=None)\n",
    "    mfcc = librosa.feature.mfcc(y=y, sr=sr, n_mfcc=13)\n",
    "    return mfcc.T\n",
    "\n",
    "# Function to calculate DTW distance between two feature sets\n",
    "def calculate_dtw_distance(template, test):\n",
    "    distance, _, _, _ = dtw(template, test, dist=lambda x, y: np.linalg.norm(x - y, ord=1))\n",
    "    return distance\n",
    "\n",
    "# Directory with pre-recorded templates of words\n",
    "template_dir = \"./DTWSpeech/sounds\"\n",
    "test_file = \"./DTWSpeech/test/farw0-b1-t.wav\"\n",
    "\n",
    "# Load templates\n",
    "templates = {}\n",
    "for filename in os.listdir(template_dir):\n",
    "    if filename.endswith(\".wav\"):\n",
    "        word = filename.split(\".\")[0]\n",
    "        templates[word] = extract_features(os.path.join(template_dir, filename))\n",
    "\n",
    "# Extract features from the test file\n",
    "test_features = extract_features(test_file)\n",
    "\n",
    "# Compare the test features with each template and find the closest match\n",
    "min_distance = float('inf')\n",
    "recognized_word = None\n",
    "\n",
    "for word, template_features in templates.items():\n",
    "    distance = calculate_dtw_distance(template_features, test_features)\n",
    "    if distance < min_distance:\n",
    "        min_distance = distance\n",
    "        recognized_word = word\n",
    "\n",
    "print(f\"Recognized Word: {recognized_word}\")\n"
   ]
  },
  {
   "cell_type": "code",
   "execution_count": 2,
   "metadata": {},
   "outputs": [
    {
     "name": "stdout",
     "output_type": "stream",
     "text": [
      "Defaulting to user installation because normal site-packages is not writeable\n",
      "Collecting torchaudio\n",
      "  Downloading torchaudio-2.5.0-cp310-cp310-manylinux1_x86_64.whl.metadata (6.4 kB)\n",
      "Collecting torch==2.5.0 (from torchaudio)\n",
      "  Downloading torch-2.5.0-cp310-cp310-manylinux1_x86_64.whl.metadata (28 kB)\n",
      "Requirement already satisfied: filelock in /home/dananjay/.local/lib/python3.10/site-packages (from torch==2.5.0->torchaudio) (3.13.1)\n",
      "Requirement already satisfied: typing-extensions>=4.8.0 in /home/dananjay/.local/lib/python3.10/site-packages (from torch==2.5.0->torchaudio) (4.9.0)\n",
      "Requirement already satisfied: networkx in /home/dananjay/.local/lib/python3.10/site-packages (from torch==2.5.0->torchaudio) (3.1)\n",
      "Requirement already satisfied: jinja2 in /home/dananjay/.local/lib/python3.10/site-packages (from torch==2.5.0->torchaudio) (3.1.4)\n",
      "Requirement already satisfied: fsspec in /home/dananjay/.local/lib/python3.10/site-packages (from torch==2.5.0->torchaudio) (2024.6.1)\n",
      "Collecting nvidia-cuda-nvrtc-cu12==12.4.127 (from torch==2.5.0->torchaudio)\n",
      "  Downloading nvidia_cuda_nvrtc_cu12-12.4.127-py3-none-manylinux2014_x86_64.whl.metadata (1.5 kB)\n",
      "Collecting nvidia-cuda-runtime-cu12==12.4.127 (from torch==2.5.0->torchaudio)\n",
      "  Downloading nvidia_cuda_runtime_cu12-12.4.127-py3-none-manylinux2014_x86_64.whl.metadata (1.5 kB)\n",
      "Collecting nvidia-cuda-cupti-cu12==12.4.127 (from torch==2.5.0->torchaudio)\n",
      "  Downloading nvidia_cuda_cupti_cu12-12.4.127-py3-none-manylinux2014_x86_64.whl.metadata (1.6 kB)\n",
      "Requirement already satisfied: nvidia-cudnn-cu12==9.1.0.70 in /home/dananjay/.local/lib/python3.10/site-packages (from torch==2.5.0->torchaudio) (9.1.0.70)\n",
      "Collecting nvidia-cublas-cu12==12.4.5.8 (from torch==2.5.0->torchaudio)\n",
      "  Downloading nvidia_cublas_cu12-12.4.5.8-py3-none-manylinux2014_x86_64.whl.metadata (1.5 kB)\n",
      "Collecting nvidia-cufft-cu12==11.2.1.3 (from torch==2.5.0->torchaudio)\n",
      "  Downloading nvidia_cufft_cu12-11.2.1.3-py3-none-manylinux2014_x86_64.whl.metadata (1.5 kB)\n",
      "Collecting nvidia-curand-cu12==10.3.5.147 (from torch==2.5.0->torchaudio)\n",
      "  Downloading nvidia_curand_cu12-10.3.5.147-py3-none-manylinux2014_x86_64.whl.metadata (1.5 kB)\n",
      "Collecting nvidia-cusolver-cu12==11.6.1.9 (from torch==2.5.0->torchaudio)\n",
      "  Downloading nvidia_cusolver_cu12-11.6.1.9-py3-none-manylinux2014_x86_64.whl.metadata (1.6 kB)\n",
      "Collecting nvidia-cusparse-cu12==12.3.1.170 (from torch==2.5.0->torchaudio)\n",
      "  Downloading nvidia_cusparse_cu12-12.3.1.170-py3-none-manylinux2014_x86_64.whl.metadata (1.6 kB)\n",
      "Collecting nvidia-nccl-cu12==2.21.5 (from torch==2.5.0->torchaudio)\n",
      "  Downloading nvidia_nccl_cu12-2.21.5-py3-none-manylinux2014_x86_64.whl.metadata (1.8 kB)\n",
      "Collecting nvidia-nvtx-cu12==12.4.127 (from torch==2.5.0->torchaudio)\n",
      "  Downloading nvidia_nvtx_cu12-12.4.127-py3-none-manylinux2014_x86_64.whl.metadata (1.7 kB)\n",
      "Collecting nvidia-nvjitlink-cu12==12.4.127 (from torch==2.5.0->torchaudio)\n",
      "  Downloading nvidia_nvjitlink_cu12-12.4.127-py3-none-manylinux2014_x86_64.whl.metadata (1.5 kB)\n",
      "Collecting triton==3.1.0 (from torch==2.5.0->torchaudio)\n",
      "  Downloading triton-3.1.0-cp310-cp310-manylinux_2_17_x86_64.manylinux2014_x86_64.whl.metadata (1.3 kB)\n",
      "Collecting sympy==1.13.1 (from torch==2.5.0->torchaudio)\n",
      "  Downloading sympy-1.13.1-py3-none-any.whl.metadata (12 kB)\n",
      "Requirement already satisfied: mpmath<1.4,>=1.1.0 in /home/dananjay/.local/lib/python3.10/site-packages (from sympy==1.13.1->torch==2.5.0->torchaudio) (1.3.0)\n",
      "Requirement already satisfied: MarkupSafe>=2.0 in /home/dananjay/.local/lib/python3.10/site-packages (from jinja2->torch==2.5.0->torchaudio) (2.1.3)\n",
      "Downloading torchaudio-2.5.0-cp310-cp310-manylinux1_x86_64.whl (3.4 MB)\n",
      "\u001b[2K   \u001b[90m━━━━━━━━━━━━━━━━━━━━━━━━━━━━━━━━━━━━━━━━\u001b[0m \u001b[32m3.4/3.4 MB\u001b[0m \u001b[31m11.5 MB/s\u001b[0m eta \u001b[36m0:00:00\u001b[0ma \u001b[36m0:00:01\u001b[0m\n",
      "\u001b[?25hDownloading torch-2.5.0-cp310-cp310-manylinux1_x86_64.whl (906.4 MB)\n",
      "\u001b[2K   \u001b[91m━━\u001b[0m\u001b[91m╸\u001b[0m\u001b[90m━━━━━━━━━━━━━━━━━━━━━━━━━━━━━━━━━━━━━\u001b[0m \u001b[32m66.1/906.4 MB\u001b[0m \u001b[31m12.6 MB/s\u001b[0m eta \u001b[36m0:01:07\u001b[0m^C\n",
      "\u001b[2K   \u001b[91m━━\u001b[0m\u001b[91m╸\u001b[0m\u001b[90m━━━━━━━━━━━━━━━━━━━━━━━━━━━━━━━━━━━━━\u001b[0m \u001b[32m67.9/906.4 MB\u001b[0m \u001b[31m12.5 MB/s\u001b[0m eta \u001b[36m0:01:08\u001b[0m\n",
      "\u001b[?25h\u001b[31mERROR: Operation cancelled by user\u001b[0m\u001b[31m\n",
      "\u001b[0m"
     ]
    }
   ],
   "source": [
    "!pip install torchaudio"
   ]
  },
  {
   "cell_type": "code",
   "execution_count": null,
   "metadata": {},
   "outputs": [],
   "source": [
    "import torch\n",
    "import torchaudio\n",
    "from model import SpeechRecognitionModel  # Assuming this is the model class\n",
    "\n",
    "# Load the pre-trained model\n",
    "model = SpeechRecognitionModel()\n",
    "model.load_state_dict(torch.load(\"path/to/pretrained/model.pth\"))\n",
    "model.eval()\n",
    "\n",
    "# Function to preprocess audio file for the neural network model\n",
    "def preprocess_audio(file_path):\n",
    "    waveform, sample_rate = torchaudio.load(file_path)\n",
    "    mel_spectrogram = torchaudio.transforms.MelSpectrogram()(waveform)\n",
    "    return mel_spectrogram\n",
    "\n",
    "# Recognize word from audio file\n",
    "def recognize_word(audio_file):\n",
    "    features = preprocess_audio(audio_file)\n",
    "    with torch.no_grad():\n",
    "        output = model(features.unsqueeze(0))\n",
    "        predicted_word = torch.argmax(output, dim=1).item()\n",
    "    return predicted_word\n",
    "\n",
    "test_audio_file = \"path/to/test/audio.wav\"\n",
    "recognized_word = recognize_word(test_audio_file)\n",
    "print(f\"Recognized Word: {recognized_word}\")\n"
   ]
  }
 ],
 "metadata": {
  "kernelspec": {
   "display_name": "Python 3",
   "language": "python",
   "name": "python3"
  },
  "language_info": {
   "codemirror_mode": {
    "name": "ipython",
    "version": 3
   },
   "file_extension": ".py",
   "mimetype": "text/x-python",
   "name": "python",
   "nbconvert_exporter": "python",
   "pygments_lexer": "ipython3",
   "version": "3.10.12"
  }
 },
 "nbformat": 4,
 "nbformat_minor": 2
}
