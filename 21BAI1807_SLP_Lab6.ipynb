{
 "cells": [
  {
   "cell_type": "markdown",
   "metadata": {},
   "source": [
    "SreeDananjay S(21BAI1807)\n",
    "Speech and Language processing Lab assignment 6"
   ]
  },
  {
   "cell_type": "code",
   "execution_count": 1,
   "metadata": {},
   "outputs": [
    {
     "name": "stderr",
     "output_type": "stream",
     "text": [
      "2024-09-09 20:54:20.733847: I tensorflow/core/util/port.cc:113] oneDNN custom operations are on. You may see slightly different numerical results due to floating-point round-off errors from different computation orders. To turn them off, set the environment variable `TF_ENABLE_ONEDNN_OPTS=0`.\n",
      "2024-09-09 20:54:21.231457: E external/local_xla/xla/stream_executor/cuda/cuda_dnn.cc:9261] Unable to register cuDNN factory: Attempting to register factory for plugin cuDNN when one has already been registered\n",
      "2024-09-09 20:54:21.231525: E external/local_xla/xla/stream_executor/cuda/cuda_fft.cc:607] Unable to register cuFFT factory: Attempting to register factory for plugin cuFFT when one has already been registered\n",
      "2024-09-09 20:54:21.306940: E external/local_xla/xla/stream_executor/cuda/cuda_blas.cc:1515] Unable to register cuBLAS factory: Attempting to register factory for plugin cuBLAS when one has already been registered\n",
      "2024-09-09 20:54:21.529335: I tensorflow/core/platform/cpu_feature_guard.cc:182] This TensorFlow binary is optimized to use available CPU instructions in performance-critical operations.\n",
      "To enable the following instructions: AVX2 AVX_VNNI FMA, in other operations, rebuild TensorFlow with the appropriate compiler flags.\n",
      "2024-09-09 20:54:22.745211: W tensorflow/compiler/tf2tensorrt/utils/py_utils.cc:38] TF-TRT Warning: Could not find TensorRT\n"
     ]
    }
   ],
   "source": [
    "import pandas as pd\n",
    "import numpy as np\n",
    "import tensorflow as tf\n",
    "from tensorflow.keras.preprocessing.text import Tokenizer\n",
    "from tensorflow.keras.preprocessing.sequence import pad_sequences\n",
    "from tensorflow.keras.models import Sequential\n",
    "from tensorflow.keras.layers import Embedding, SimpleRNN, Dense, Dropout\n",
    "from sklearn.model_selection import train_test_split\n",
    "from sklearn.preprocessing import LabelEncoder"
   ]
  },
  {
   "cell_type": "code",
   "execution_count": 3,
   "metadata": {},
   "outputs": [],
   "source": [
    "df = pd.read_csv('SMSSpamCollection', sep='\\t', names=['label', 'message'])"
   ]
  },
  {
   "cell_type": "code",
   "execution_count": 4,
   "metadata": {},
   "outputs": [],
   "source": [
    "label_encoder = LabelEncoder()\n",
    "df['label'] = label_encoder.fit_transform(df['label'])"
   ]
  },
  {
   "cell_type": "code",
   "execution_count": 5,
   "metadata": {},
   "outputs": [],
   "source": [
    "X = df['message'].values\n",
    "y = df['label'].values\n",
    "X_train, X_test, y_train, y_test = train_test_split(X, y, test_size=0.2, random_state=42)"
   ]
  },
  {
   "cell_type": "code",
   "execution_count": 6,
   "metadata": {},
   "outputs": [],
   "source": [
    "vocab_size = 10000  # You can adjust this based on your dataset size\n",
    "max_len = 100       # Maximum length of sequences after padding\n",
    "tokenizer = Tokenizer(num_words=vocab_size, oov_token=\"<OOV>\")\n",
    "tokenizer.fit_on_texts(X_train)"
   ]
  },
  {
   "cell_type": "code",
   "execution_count": 7,
   "metadata": {},
   "outputs": [],
   "source": [
    "X_train_sequences = tokenizer.texts_to_sequences(X_train)\n",
    "X_test_sequences = tokenizer.texts_to_sequences(X_test)\n",
    "\n",
    "# Pad sequences to ensure they are of equal length\n",
    "X_train_padded = pad_sequences(X_train_sequences, maxlen=max_len, padding='post', truncating='post')\n",
    "X_test_padded = pad_sequences(X_test_sequences, maxlen=max_len, padding='post', truncating='post')"
   ]
  },
  {
   "cell_type": "code",
   "execution_count": 9,
   "metadata": {},
   "outputs": [],
   "source": [
    "embedding_dim = 128\n",
    "\n",
    "model = Sequential()\n",
    "\n",
    "# Embedding layer to convert word indices into dense vectors\n",
    "model.add(Embedding(vocab_size, embedding_dim, input_length=max_len))\n",
    "\n",
    "# Add a simple RNN layer\n",
    "model.add(SimpleRNN(128, return_sequences=False))\n",
    "\n",
    "# Add a dropout layer to prevent overfitting\n",
    "model.add(Dropout(0.5))\n",
    "\n",
    "# Add the output layer with a sigmoid activation function for binary classification (spam/ham)\n",
    "model.add(Dense(1, activation='sigmoid'))\n",
    "\n",
    "# Compile the model with binary crossentropy loss and Adam optimizer\n",
    "model.compile(loss='binary_crossentropy', optimizer='adam', metrics=['accuracy'])"
   ]
  },
  {
   "cell_type": "code",
   "execution_count": 10,
   "metadata": {},
   "outputs": [
    {
     "name": "stdout",
     "output_type": "stream",
     "text": [
      "Epoch 1/5\n",
      "70/70 [==============================] - 4s 44ms/step - loss: 0.4417 - accuracy: 0.8512 - val_loss: 0.4053 - val_accuracy: 0.8655\n",
      "Epoch 2/5\n",
      "70/70 [==============================] - 3s 39ms/step - loss: 0.4147 - accuracy: 0.8658 - val_loss: 0.3937 - val_accuracy: 0.8664\n",
      "Epoch 3/5\n",
      "70/70 [==============================] - 3s 40ms/step - loss: 0.3479 - accuracy: 0.8665 - val_loss: 0.4539 - val_accuracy: 0.8475\n",
      "Epoch 4/5\n",
      "70/70 [==============================] - 3s 38ms/step - loss: 0.2060 - accuracy: 0.9248 - val_loss: 0.2447 - val_accuracy: 0.9238\n",
      "Epoch 5/5\n",
      "70/70 [==============================] - 3s 36ms/step - loss: 0.3940 - accuracy: 0.8600 - val_loss: 0.3264 - val_accuracy: 0.8664\n",
      "Test Accuracy: 86.64%\n",
      "35/35 [==============================] - 0s 7ms/step\n",
      "Message: Squeeeeeze!! This is christmas hug.. If u lik my frndshp den hug me back.. If u get 3 u r cute:) 6 u r luvd:* 9 u r so lucky;) None? People hate u:\n",
      "Actual: 0, Predicted: 0\n",
      "\n",
      "Message: And also I've sorta blown him off a couple times recently so id rather not text him out of the blue looking for weed\n",
      "Actual: 0, Predicted: 0\n",
      "\n",
      "Message: Mmm thats better now i got a roast down me! id b better if i had a few drinks down me 2! Good indian?\n",
      "Actual: 0, Predicted: 0\n",
      "\n",
      "Message: Mm have some kanji dont eat anything heavy ok\n",
      "Actual: 0, Predicted: 0\n",
      "\n",
      "Message: So there's a ring that comes with the guys costumes. It's there so they can gift their future yowifes. Hint hint\n",
      "Actual: 0, Predicted: 0\n",
      "\n"
     ]
    }
   ],
   "source": [
    "batch_size = 64\n",
    "epochs = 5\n",
    "history = model.fit(X_train_padded, y_train, batch_size=batch_size, epochs=epochs, validation_data=(X_test_padded, y_test))\n",
    "\n",
    "# Evaluate the model on the test data\n",
    "loss, accuracy = model.evaluate(X_test_padded, y_test, verbose=0)\n",
    "print(f'Test Accuracy: {accuracy * 100:.2f}%')\n",
    "\n",
    "# Making predictions on the test set\n",
    "predictions = model.predict(X_test_padded)\n",
    "\n",
    "# Check first few predictions\n",
    "for i in range(5):\n",
    "    print(f\"Message: {X_test[i]}\")\n",
    "    print(f\"Actual: {y_test[i]}, Predicted: {1 if predictions[i] > 0.5 else 0}\\n\")"
   ]
  },
  {
   "cell_type": "code",
   "execution_count": null,
   "metadata": {},
   "outputs": [],
   "source": []
  },
  {
   "cell_type": "markdown",
   "metadata": {},
   "source": []
  }
 ],
 "metadata": {
  "kernelspec": {
   "display_name": "Python 3",
   "language": "python",
   "name": "python3"
  },
  "language_info": {
   "codemirror_mode": {
    "name": "ipython",
    "version": 3
   },
   "file_extension": ".py",
   "mimetype": "text/x-python",
   "name": "python",
   "nbconvert_exporter": "python",
   "pygments_lexer": "ipython3",
   "version": "3.10.12"
  }
 },
 "nbformat": 4,
 "nbformat_minor": 2
}
