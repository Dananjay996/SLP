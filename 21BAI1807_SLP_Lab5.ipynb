{
 "cells": [
  {
   "cell_type": "code",
   "execution_count": 1,
   "metadata": {},
   "outputs": [],
   "source": [
    "import pandas as pd"
   ]
  },
  {
   "cell_type": "code",
   "execution_count": 3,
   "metadata": {},
   "outputs": [
    {
     "data": {
      "text/html": [
       "<div>\n",
       "<style scoped>\n",
       "    .dataframe tbody tr th:only-of-type {\n",
       "        vertical-align: middle;\n",
       "    }\n",
       "\n",
       "    .dataframe tbody tr th {\n",
       "        vertical-align: top;\n",
       "    }\n",
       "\n",
       "    .dataframe thead th {\n",
       "        text-align: right;\n",
       "    }\n",
       "</style>\n",
       "<table border=\"1\" class=\"dataframe\">\n",
       "  <thead>\n",
       "    <tr style=\"text-align: right;\">\n",
       "      <th></th>\n",
       "      <th>label</th>\n",
       "      <th>sms_message</th>\n",
       "    </tr>\n",
       "  </thead>\n",
       "  <tbody>\n",
       "    <tr>\n",
       "      <th>0</th>\n",
       "      <td>0</td>\n",
       "      <td>go until jurong point, crazy.. available only ...</td>\n",
       "    </tr>\n",
       "    <tr>\n",
       "      <th>1</th>\n",
       "      <td>0</td>\n",
       "      <td>ok lar... joking wif u oni...</td>\n",
       "    </tr>\n",
       "    <tr>\n",
       "      <th>2</th>\n",
       "      <td>1</td>\n",
       "      <td>free entry in 2 a wkly comp to win fa cup fina...</td>\n",
       "    </tr>\n",
       "    <tr>\n",
       "      <th>3</th>\n",
       "      <td>0</td>\n",
       "      <td>u dun say so early hor... u c already then say...</td>\n",
       "    </tr>\n",
       "    <tr>\n",
       "      <th>4</th>\n",
       "      <td>0</td>\n",
       "      <td>nah i don't think he goes to usf, he lives aro...</td>\n",
       "    </tr>\n",
       "  </tbody>\n",
       "</table>\n",
       "</div>"
      ],
      "text/plain": [
       "   label                                        sms_message\n",
       "0      0  go until jurong point, crazy.. available only ...\n",
       "1      0                      ok lar... joking wif u oni...\n",
       "2      1  free entry in 2 a wkly comp to win fa cup fina...\n",
       "3      0  u dun say so early hor... u c already then say...\n",
       "4      0  nah i don't think he goes to usf, he lives aro..."
      ]
     },
     "execution_count": 3,
     "metadata": {},
     "output_type": "execute_result"
    }
   ],
   "source": [
    "#Load the dataset\n",
    "URL = \"./SMSSpamCollection\"\n",
    "df = pd.read_csv(URL, sep='\\t', header=None)\n",
    "df.columns = ['label', 'sms_message']\n",
    "\n",
    "# map the label to 0 and 1\n",
    "df['label'] = df['label'].map({'ham':0, 'spam':1})\n",
    "\n",
    "#convert message to lower case\n",
    "df['sms_message'] = df['sms_message'].str.lower()\n",
    "df.head()"
   ]
  },
  {
   "cell_type": "code",
   "execution_count": 4,
   "metadata": {},
   "outputs": [],
   "source": [
    "import pandas as pd\n",
    "from sklearn.model_selection import train_test_split\n",
    "import re\n",
    "from collections import defaultdict\n",
    "import math"
   ]
  },
  {
   "cell_type": "code",
   "execution_count": 6,
   "metadata": {},
   "outputs": [],
   "source": [
    "X_train, X_test, y_train, y_test = train_test_split(df['sms_message'], df['label'], test_size=0.3, random_state=42)"
   ]
  },
  {
   "cell_type": "code",
   "execution_count": 7,
   "metadata": {},
   "outputs": [],
   "source": [
    "class NaiveBayesClassifier:\n",
    "    def __init__(self):\n",
    "        self.class_prob = {}\n",
    "        self.word_prob = defaultdict(lambda: defaultdict(lambda: 1))\n",
    "        self.vocabulary = set()\n",
    "        self.total_docs = 0\n",
    "        self.total_words = defaultdict(int)\n",
    "        self.doc_count = defaultdict(int)\n",
    "    \n",
    "    def fit(self, X, y):\n",
    "        # Count document occurrences and words\n",
    "        for doc, label in zip(X, y):\n",
    "            self.total_docs += 1\n",
    "            self.doc_count[label] += 1\n",
    "            words = doc.split()\n",
    "            self.total_words[label] += len(words)\n",
    "            \n",
    "            for word in words:\n",
    "                self.vocabulary.add(word)\n",
    "                self.word_prob[label][word] += 1\n",
    "        \n",
    "        # Calculate prior probabilities\n",
    "        for label in self.doc_count:\n",
    "            self.class_prob[label] = self.doc_count[label] / self.total_docs\n",
    "    \n",
    "    def predict(self, X):\n",
    "        predictions = []\n",
    "        for doc in X:\n",
    "            log_probs = {}\n",
    "            words = doc.split()\n",
    "            for label in self.doc_count:\n",
    "                log_prob = math.log(self.class_prob[label])\n",
    "                for word in words:\n",
    "                    word_freq = self.word_prob[label][word]\n",
    "                    word_prob = word_freq / self.total_words[label]\n",
    "                    log_prob += math.log(word_prob)\n",
    "                \n",
    "                log_probs[label] = log_prob\n",
    "            \n",
    "            # Choose the label with the highest log probability\n",
    "            predictions.append(max(log_probs, key=log_probs.get))\n",
    "        \n",
    "        return predictions"
   ]
  },
  {
   "cell_type": "code",
   "execution_count": 8,
   "metadata": {},
   "outputs": [
    {
     "name": "stdout",
     "output_type": "stream",
     "text": [
      "Accuracy: 0.9157\n"
     ]
    }
   ],
   "source": [
    "# Train and evaluate the model\n",
    "nb_classifier = NaiveBayesClassifier()\n",
    "nb_classifier.fit(X_train, y_train)\n",
    "y_pred = nb_classifier.predict(X_test)\n",
    "\n",
    "# Evaluate accuracy\n",
    "accuracy = sum([1 for true, pred in zip(y_test, y_pred) if true == pred]) / len(y_test)\n",
    "print(f\"Accuracy: {accuracy:.4f}\")"
   ]
  },
  {
   "cell_type": "code",
   "execution_count": null,
   "metadata": {},
   "outputs": [],
   "source": []
  }
 ],
 "metadata": {
  "kernelspec": {
   "display_name": "Python 3",
   "language": "python",
   "name": "python3"
  },
  "language_info": {
   "codemirror_mode": {
    "name": "ipython",
    "version": 3
   },
   "file_extension": ".py",
   "mimetype": "text/x-python",
   "name": "python",
   "nbconvert_exporter": "python",
   "pygments_lexer": "ipython3",
   "version": "3.10.12"
  }
 },
 "nbformat": 4,
 "nbformat_minor": 2
}
